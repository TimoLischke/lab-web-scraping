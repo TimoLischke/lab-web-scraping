{
 "cells": [
  {
   "cell_type": "markdown",
   "id": "7e7a1ab8-2599-417d-9a65-25ef07f3a786",
   "metadata": {
    "id": "7e7a1ab8-2599-417d-9a65-25ef07f3a786"
   },
   "source": [
    "# Lab | Web Scraping"
   ]
  },
  {
   "cell_type": "raw",
   "id": "a46e5e95-cfca-4889-b5c3-c2f4d0bb2455",
   "metadata": {
    "id": "ce8882fc-4815-4567-92fa-b4816358ba7d"
   },
   "source": [
    "Welcome to the IMDb Web Scraping Adventure Lab!\n",
    "\n",
    "**Objective**\n",
    "\n",
    "In this lab, we will embark on a mission to unearth valuable insights from the vast sea of data available on IMDb, one of the largest online databases of movie, TV, and celebrity information. As budding data scientists and business analysts, you have been tasked to scrape a specific subset of data from IMDb to assist film production companies in understanding the landscape of highly-rated movies in a defined time period. Your insights will potentially influence the making of the next netflix movie!\n",
    "\n",
    "**Background**\n",
    "\n",
    "In a world where data has become the new currency, businesses are leveraging big data to make informed decisions that drive success and profitability. The entertainment industry, being no exception, utilizes data analytics to comprehend market trends, audience preferences, and the performance of films based on various parameters such as director, genre, stars involved, etc. IMDb stands as a goldmine of such data, offering intricate details of almost every movie ever made.\n",
    "\n",
    "**Task**\n",
    "\n",
    "Your task is to create a Python script using `BeautifulSoup` and `pandas` to scrape IMDb movie data based on user ratings and release dates. This script should be able to filter movies with ratings above a certain threshold and within a specified date range.\n",
    "\n",
    "**Expected Outcome**\n",
    "\n",
    "- A function named `scrape_imdb` that takes four parameters: `title_type`,`user_rating`, `start_date`, and `end_date`.\n",
    "- The function should return a DataFrame with the following columns:\n",
    "  - **Movie Nr**: The number representing the movie’s position in the list.  xxxxxxxxxxx\n",
    "  - **Title**: The title of the movie.                     xxxxxxxxxxxxxxxxxxxxxx\n",
    "  - **Year**: The year the movie was released.           xxxxxxxxxxxxxxxxxxx\n",
    "  - **Rating**: The IMDb rating of the movie.            xxxxxxxxxxxxxxxxxxxx\n",
    "  - **Runtime (min)**: The duration of the movie in minutes.   xxxxxxxxxxxxxxxxx\n",
    "  - **Genre**: The genre of the movie.\n",
    "  - **Description**: A brief description of the movie.                  xxxxxxxxxxxxxx\n",
    "  - **Director**: The director of the movie.\n",
    "  - **Stars**: The main stars of the movie.\n",
    "  - **Votes**: The number of votes the movie received.          XXXXXXXXXXXXXXX\n",
    "  - **Gross ($M)**: The gross earnings of the movie in millions of USD.\n",
    "\n",
    "You will execute this script to scrape data for movies with the Title Type `Feature Film` that have a user rating of `7.5 and above` and were released between `January 1, 1990, and December 31, 1992`.\n",
    "\n",
    "Remember to experiment with different title types, dates and ratings to ensure your code is versatile and can handle various searches effectively!\n",
    "\n",
    "**Resources**\n",
    "\n",
    "- [Beautiful Soup Documentation](https://www.crummy.com/software/BeautifulSoup/bs4/doc/)\n",
    "- [Pandas Documentation](https://pandas.pydata.org/pandas-docs/stable/index.html)\n",
    "- [IMDb Advanced Search](https://www.imdb.com/search/title/)\n"
   ]
  },
  {
   "cell_type": "markdown",
   "id": "3519921d-5890-445b-9a33-934ed8ee378c",
   "metadata": {
    "id": "3519921d-5890-445b-9a33-934ed8ee378c"
   },
   "source": [
    "**Hint**\n",
    "\n",
    "Your first mission is to familiarize yourself with the IMDb advanced search page. Head over to [IMDb advanced search](https://www.imdb.com/search/title/) and input the following parameters, keeping all other fields to their default values or blank:\n",
    "\n",
    "- **Title Type**: Feature film\n",
    "- **Release date**: From 1990 to 1992 (Note: You don't need to specify the day and month)\n",
    "- **User Rating**: 7.5 to -\n",
    "\n",
    "Upon searching, you'll land on a page showcasing a list of movies, each displaying vital details such as the title, release year, and crew information. Your task is to scrape this treasure trove of data.\n",
    "\n",
    "Carefully examine the resulting URL and construct your own URL to include all the necessary parameters for filtering the movies."
   ]
  },
  {
   "cell_type": "markdown",
   "id": "25a83a0d-a742-49f6-985e-e27887cbf922",
   "metadata": {
    "id": "25a83a0d-a742-49f6-985e-e27887cbf922"
   },
   "source": [
    "\n",
    "---\n",
    "\n",
    "**Best of luck! Immerse yourself in the world of movies and may the data be with you!**"
   ]
  },
  {
   "cell_type": "markdown",
   "id": "7b75cf0d-9afa-4eec-a9e2-befeac68b2a0",
   "metadata": {
    "id": "7b75cf0d-9afa-4eec-a9e2-befeac68b2a0"
   },
   "source": [
    "**Important note**:\n",
    "\n",
    "In the fast-changing online world, websites often get updates and make changes. When you try this lab, the IMDb website might be different from what we expect.\n",
    "\n",
    "If you run into problems because of these changes, like new rules or things that stop you from getting data, don't worry! Instead, get creative.\n",
    "\n",
    "You can choose another website that interests you and is good for scraping data. Websites like Wikipedia or The New York Times are good options. The main goal is still the same: get useful data and learn how to scrape it from a website that you find interesting. It's a chance to practice your web scraping skills and explore a source of information you like."
   ]
  },
  {
   "cell_type": "code",
   "execution_count": 182,
   "id": "5cf47f17",
   "metadata": {},
   "outputs": [],
   "source": [
    "import pandas as pd"
   ]
  },
  {
   "cell_type": "code",
   "execution_count": 184,
   "id": "9d1796e4-0cb9-43e2-8f6b-ed9bddad372d",
   "metadata": {},
   "outputs": [],
   "source": [
    "# bs4 = beautiful soup library\n",
    "from bs4 import BeautifulSoup # import this class"
   ]
  },
  {
   "cell_type": "code",
   "execution_count": 186,
   "id": "5a7b9544-95e5-4c1e-a685-5071498c31e1",
   "metadata": {},
   "outputs": [],
   "source": [
    "import requests"
   ]
  },
  {
   "cell_type": "code",
   "execution_count": 188,
   "id": "fb60517c-11dc-4c21-b1eb-0af0214b6054",
   "metadata": {},
   "outputs": [
    {
     "data": {
      "text/plain": [
       "<Response [200]>"
      ]
     },
     "execution_count": 188,
     "metadata": {},
     "output_type": "execute_result"
    }
   ],
   "source": [
    "# Load imdb from url\n",
    "url = 'https://www.imdb.com/search/title/?title_type=feature&release_date=1990-01-01,1992-12-31&user_rating=7.5,10'\n",
    "\n",
    "headers = {\n",
    "    'User-Agent': 'Mozilla/5.0 (Windows NT 10.0; Win64; x64) AppleWebKit/537.36 (KHTML, like Gecko) Chrome/96.0.4664.110 Safari/537.36'\n",
    "}\n",
    "\n",
    "response = requests.get(url, headers=headers)\n",
    "response"
   ]
  },
  {
   "cell_type": "code",
   "execution_count": 190,
   "id": "0fb10503-9102-486d-913b-70bcd5a549c9",
   "metadata": {},
   "outputs": [],
   "source": [
    "# response.content"
   ]
  },
  {
   "cell_type": "code",
   "execution_count": 192,
   "id": "d5236391-2fe6-4fe5-be22-8f09324157e4",
   "metadata": {},
   "outputs": [
    {
     "data": {
      "text/plain": [
       "{'Content-Type': 'text/html; charset=utf-8', 'Transfer-Encoding': 'chunked', 'Connection': 'keep-alive', 'Server': 'Server', 'Date': 'Mon, 20 Jan 2025 16:07:47 GMT', 'Vary': 'Accept-Encoding,Content-Type,Accept-Encoding,User-Agent', 'Strict-Transport-Security': 'max-age=47474747; includeSubDomains; preload', 'x-amz-rid': 'S1E1YCBCP5119T5NB0D4', 'set-cookie': 'session-id=131-6556946-8969911; Domain=.imdb.com; Expires=Tue, 01 Jan 2036 08:00:01 GMT; Path=/; Secure, session-id-time=2082787201l; Domain=.imdb.com; Expires=Tue, 01 Jan 2036 08:00:01 GMT; Path=/; Secure, international-seo=; Max-Age=0; Domain=.imdb.com; Path=/; Secure; SameSite=Strict, next-sid=yW06MFzfLyWwVDK9LtNE2; Path=/; Expires=Thu, 01 Jan 1970 00:00:00 GMT; HttpOnly', 'content-security-policy': \"frame-ancestors 'self' imdb.com *.imdb.com *.media-imdb.com withoutabox.com *.withoutabox.com amazon.com *.amazon.com amazon.co.uk *.amazon.co.uk amazon.de *.amazon.de translate.google.com images.google.com www.google.com www.google.co.uk search.aol.com bing.com www.bing.com\", 'x-frame-options': 'SAMEORIGIN', 'x-xss-protection': '1; mode=block', 'Cache-Control': 'private, no-cache, no-store, max-age=0, must-revalidate', 'ETag': '\"12gyq2r3ughnyo6\"', 'Content-Encoding': 'gzip', 'X-Cache': 'Miss from cloudfront', 'Via': '1.1 8562aa55ecb1bd657c9073c0910ec6bc.cloudfront.net (CloudFront)', 'X-Amz-Cf-Pop': 'TXL50-P5', 'Alt-Svc': 'h3=\":443\"; ma=86400', 'X-Amz-Cf-Id': 'WJvGJiNEojAKzp4Lwle-RCLK8Aoq6-p19yFm3t0Au7l6LhEe0m9pKA=='}"
      ]
     },
     "execution_count": 192,
     "metadata": {},
     "output_type": "execute_result"
    }
   ],
   "source": [
    "response.headers"
   ]
  },
  {
   "cell_type": "code",
   "execution_count": 194,
   "id": "49821ef2-ebd6-40f4-99a2-8c1cd0626b05",
   "metadata": {},
   "outputs": [],
   "source": [
    "# To analyze html with soup define it\n",
    "soup = BeautifulSoup(response.content, \"html.parser\")"
   ]
  },
  {
   "cell_type": "code",
   "execution_count": 196,
   "id": "77e1e94b-c38a-4061-af38-ad46cf3e2715",
   "metadata": {},
   "outputs": [],
   "source": [
    "# soup"
   ]
  },
  {
   "cell_type": "code",
   "execution_count": 198,
   "id": "09b0eb77-f373-4173-91a2-5e320378dea3",
   "metadata": {},
   "outputs": [],
   "source": [
    "# print(soup.prettify())"
   ]
  },
  {
   "cell_type": "code",
   "execution_count": 200,
   "id": "a5317f58-9ddd-49a7-ac61-c7ed1423981c",
   "metadata": {},
   "outputs": [
    {
     "data": {
      "text/plain": [
       "[<span class=\"ipc-rating-star--rating\">8.7</span>,\n",
       " <span class=\"ipc-rating-star--rating\">7.8</span>,\n",
       " <span class=\"ipc-rating-star--rating\">8.6</span>,\n",
       " <span class=\"ipc-rating-star--rating\">7.7</span>,\n",
       " <span class=\"ipc-rating-star--rating\">8.6</span>,\n",
       " <span class=\"ipc-rating-star--rating\">8.3</span>,\n",
       " <span class=\"ipc-rating-star--rating\">8.2</span>,\n",
       " <span class=\"ipc-rating-star--rating\">7.7</span>,\n",
       " <span class=\"ipc-rating-star--rating\">7.5</span>,\n",
       " <span class=\"ipc-rating-star--rating\">7.6</span>,\n",
       " <span class=\"ipc-rating-star--rating\">8.0</span>,\n",
       " <span class=\"ipc-rating-star--rating\">7.6</span>,\n",
       " <span class=\"ipc-rating-star--rating\">8.0</span>,\n",
       " <span class=\"ipc-rating-star--rating\">7.8</span>,\n",
       " <span class=\"ipc-rating-star--rating\">8.0</span>,\n",
       " <span class=\"ipc-rating-star--rating\">8.0</span>,\n",
       " <span class=\"ipc-rating-star--rating\">7.5</span>,\n",
       " <span class=\"ipc-rating-star--rating\">7.6</span>,\n",
       " <span class=\"ipc-rating-star--rating\">7.6</span>,\n",
       " <span class=\"ipc-rating-star--rating\">7.8</span>,\n",
       " <span class=\"ipc-rating-star--rating\">7.9</span>,\n",
       " <span class=\"ipc-rating-star--rating\">7.7</span>,\n",
       " <span class=\"ipc-rating-star--rating\">7.5</span>,\n",
       " <span class=\"ipc-rating-star--rating\">8.0</span>,\n",
       " <span class=\"ipc-rating-star--rating\">7.7</span>]"
      ]
     },
     "execution_count": 200,
     "metadata": {},
     "output_type": "execute_result"
    }
   ],
   "source": [
    "# user_rating can be found in <span class=\"ipc-rating-star--rating\">7.7</span>\n",
    "soup.find_all(\"span\", class_='ipc-rating-star--rating')"
   ]
  },
  {
   "cell_type": "code",
   "execution_count": 202,
   "id": "23d6cb38-d7bd-4a70-b08d-f0179187b8fe",
   "metadata": {},
   "outputs": [
    {
     "data": {
      "text/plain": [
       "[<span class=\"ipc-chip__text\">Movie</span>,\n",
       " <span class=\"ipc-chip__text\">TV Series</span>,\n",
       " <span class=\"ipc-chip__text\">Short</span>,\n",
       " <span class=\"ipc-chip__text\">TV Episode</span>,\n",
       " <span class=\"ipc-chip__text\">TV Mini Series</span>,\n",
       " <span class=\"ipc-chip__text\">TV Movie</span>,\n",
       " <span class=\"ipc-chip__text\">TV Special</span>,\n",
       " <span class=\"ipc-chip__text\">TV Short</span>,\n",
       " <span class=\"ipc-chip__text\">Video Game</span>,\n",
       " <span class=\"ipc-chip__text\">Video</span>,\n",
       " <span class=\"ipc-chip__text\">Music Video</span>,\n",
       " <span class=\"ipc-chip__text\">Podcast Series</span>,\n",
       " <span class=\"ipc-chip__text\">Podcast Episode</span>,\n",
       " <span class=\"ipc-chip__text\">Action<span class=\"ipc-chip__count\">91</span></span>,\n",
       " <span class=\"ipc-chip__text\">Adventure<span class=\"ipc-chip__count\">32</span></span>,\n",
       " <span class=\"ipc-chip__text\">Animation<span class=\"ipc-chip__count\">19</span></span>,\n",
       " <span class=\"ipc-chip__text\">Biography<span class=\"ipc-chip__count\">40</span></span>,\n",
       " <span class=\"ipc-chip__text\">Comedy<span class=\"ipc-chip__count\">180</span></span>,\n",
       " <span class=\"ipc-chip__text\">Crime<span class=\"ipc-chip__count\">67</span></span>,\n",
       " <span class=\"ipc-chip__text\">Documentary<span class=\"ipc-chip__count\">237</span></span>,\n",
       " <span class=\"ipc-chip__text\">Drama<span class=\"ipc-chip__count\">453</span></span>,\n",
       " <span class=\"ipc-chip__text\">Family<span class=\"ipc-chip__count\">37</span></span>,\n",
       " <span class=\"ipc-chip__text\">Fantasy<span class=\"ipc-chip__count\">39</span></span>,\n",
       " <span class=\"ipc-chip__text\">Film-Noir<span class=\"ipc-chip__count\">0</span></span>,\n",
       " <span class=\"ipc-chip__text\">Game-Show<span class=\"ipc-chip__count\">0</span></span>,\n",
       " <span class=\"ipc-chip__text\">History<span class=\"ipc-chip__count\">43</span></span>,\n",
       " <span class=\"ipc-chip__text\">Horror<span class=\"ipc-chip__count\">5</span></span>,\n",
       " <span class=\"ipc-chip__text\">Music<span class=\"ipc-chip__count\">34</span></span>,\n",
       " <span class=\"ipc-chip__text\">Musical<span class=\"ipc-chip__count\">26</span></span>,\n",
       " <span class=\"ipc-chip__text\">Mystery<span class=\"ipc-chip__count\">19</span></span>,\n",
       " <span class=\"ipc-chip__text\">News<span class=\"ipc-chip__count\">0</span></span>,\n",
       " <span class=\"ipc-chip__text\">Reality-TV<span class=\"ipc-chip__count\">0</span></span>,\n",
       " <span class=\"ipc-chip__text\">Romance<span class=\"ipc-chip__count\">111</span></span>,\n",
       " <span class=\"ipc-chip__text\">Sci-Fi<span class=\"ipc-chip__count\">12</span></span>,\n",
       " <span class=\"ipc-chip__text\">Short<span class=\"ipc-chip__count\">0</span></span>,\n",
       " <span class=\"ipc-chip__text\">Sport<span class=\"ipc-chip__count\">7</span></span>,\n",
       " <span class=\"ipc-chip__text\">Talk-Show<span class=\"ipc-chip__count\">0</span></span>,\n",
       " <span class=\"ipc-chip__text\">Thriller<span class=\"ipc-chip__count\">48</span></span>,\n",
       " <span class=\"ipc-chip__text\">War<span class=\"ipc-chip__count\">33</span></span>,\n",
       " <span class=\"ipc-chip__text\">Western<span class=\"ipc-chip__count\">7</span></span>,\n",
       " <span class=\"ipc-chip__text\">Oscar-Winning</span>,\n",
       " <span class=\"ipc-chip__text\">Emmy Award-Winning</span>,\n",
       " <span class=\"ipc-chip__text\">Golden Globe-Winning</span>,\n",
       " <span class=\"ipc-chip__text\">Oscar-Nominated</span>,\n",
       " <span class=\"ipc-chip__text\">Emmy Award-Nominated</span>,\n",
       " <span class=\"ipc-chip__text\">Golden Globe-Nominated</span>,\n",
       " <span class=\"ipc-chip__text\">Best Picture-Winning</span>,\n",
       " <span class=\"ipc-chip__text\">Best Picture-Nominated</span>,\n",
       " <span class=\"ipc-chip__text\">Best Director-Winning</span>,\n",
       " <span class=\"ipc-chip__text\">Best Director-Nominated</span>,\n",
       " <span class=\"ipc-chip__text\">National Film Board Preserved</span>,\n",
       " <span class=\"ipc-chip__text\">Razzie-Winning</span>,\n",
       " <span class=\"ipc-chip__text\">Razzie-Nominated</span>,\n",
       " <span class=\"ipc-chip__text\">IMDb Top 100</span>,\n",
       " <span class=\"ipc-chip__text\">IMDb Top 250</span>,\n",
       " <span class=\"ipc-chip__text\">IMDb Top 1000</span>,\n",
       " <span class=\"ipc-chip__text\">IMDb Bottom 100</span>,\n",
       " <span class=\"ipc-chip__text\">IMDb Bottom 250</span>,\n",
       " <span class=\"ipc-chip__text\">IMDb Bottom 1000</span>,\n",
       " <span class=\"ipc-chip__text\">Alternate Versions</span>,\n",
       " <span class=\"ipc-chip__text\">Awards</span>,\n",
       " <span class=\"ipc-chip__text\">Business Info</span>,\n",
       " <span class=\"ipc-chip__text\">Crazy Credits</span>,\n",
       " <span class=\"ipc-chip__text\">Goofs</span>,\n",
       " <span class=\"ipc-chip__text\">Locations</span>,\n",
       " <span class=\"ipc-chip__text\">Plot</span>,\n",
       " <span class=\"ipc-chip__text\">Quotes</span>,\n",
       " <span class=\"ipc-chip__text\">Soundtracks</span>,\n",
       " <span class=\"ipc-chip__text\">Tech specs</span>,\n",
       " <span class=\"ipc-chip__text\">Trivia</span>,\n",
       " <span class=\"ipc-chip__text\">20th Century Fox (US)</span>,\n",
       " <span class=\"ipc-chip__text\">DreamWorks (US)</span>,\n",
       " <span class=\"ipc-chip__text\">MGM (US)</span>,\n",
       " <span class=\"ipc-chip__text\">Paramount (US)</span>,\n",
       " <span class=\"ipc-chip__text\">Sony (US)</span>,\n",
       " <span class=\"ipc-chip__text\">Universal (US)</span>,\n",
       " <span class=\"ipc-chip__text\">Walt Disney (US)</span>,\n",
       " <span class=\"ipc-chip__text\">Warner Bros. (US)</span>,\n",
       " <span class=\"ipc-chip__text\">Freevee (US)</span>,\n",
       " <span class=\"ipc-chip__text\">US Prime Video (Free)</span>,\n",
       " <span class=\"ipc-chip__text\">UK Prime Video (Free)</span>,\n",
       " <span class=\"ipc-chip__text\">DE Prime Video (Free)</span>,\n",
       " <span class=\"ipc-chip__text\">US Prime Video (Rent or Buy)</span>,\n",
       " <span class=\"ipc-chip__text\">UK Prime Video (Rent or Buy)</span>,\n",
       " <span class=\"ipc-chip__text\">DE Prime Video (Rent or Buy)</span>,\n",
       " <span class=\"ipc-chip__text\">G</span>,\n",
       " <span class=\"ipc-chip__text\">PG</span>,\n",
       " <span class=\"ipc-chip__text\">PG-13</span>,\n",
       " <span class=\"ipc-chip__text\">R</span>,\n",
       " <span class=\"ipc-chip__text\">NC-17</span>,\n",
       " <span class=\"ipc-chip__text\">Color</span>,\n",
       " <span class=\"ipc-chip__text\">Black &amp; White</span>,\n",
       " <span class=\"ipc-chip__text\">Colorized</span>,\n",
       " <span class=\"ipc-chip__text\">ACES</span>,\n",
       " <span class=\"ipc-chip__text\">independent film<span class=\"ipc-chip__count\">112</span></span>,\n",
       " <span class=\"ipc-chip__text\">based on novel<span class=\"ipc-chip__count\">64</span></span>,\n",
       " <span class=\"ipc-chip__text\">murder<span class=\"ipc-chip__count\">64</span></span>,\n",
       " <span class=\"ipc-chip__text\">family relationships<span class=\"ipc-chip__count\">60</span></span>,\n",
       " <span class=\"ipc-chip__text\">love<span class=\"ipc-chip__count\">54</span></span>,\n",
       " <span class=\"ipc-chip__text\">character name in title<span class=\"ipc-chip__count\">50</span></span>,\n",
       " <span class=\"ipc-chip__text\">death<span class=\"ipc-chip__count\">50</span></span>,\n",
       " <span class=\"ipc-chip__text\">mother son relationship<span class=\"ipc-chip__count\">48</span></span>,\n",
       " <span class=\"ipc-chip__text\">f rated<span class=\"ipc-chip__count\">47</span></span>,\n",
       " <span class=\"ipc-chip__text\">father son relationship<span class=\"ipc-chip__count\">47</span></span>,\n",
       " <span class=\"ipc-chip__text\">12-Track Digital Sound</span>,\n",
       " <span class=\"ipc-chip__text\">3 Channel Stereo</span>,\n",
       " <span class=\"ipc-chip__text\">4-Track Stereo</span>,\n",
       " <span class=\"ipc-chip__text\">6-Track Stereo</span>,\n",
       " <span class=\"ipc-chip__text\">70 mm 6-Track</span>,\n",
       " <span class=\"ipc-chip__text\">AGA Sound System</span>,\n",
       " <span class=\"ipc-chip__text\">Auro 11.1</span>,\n",
       " <span class=\"ipc-chip__text\">CDS</span>,\n",
       " <span class=\"ipc-chip__text\">Chronophone</span>,\n",
       " <span class=\"ipc-chip__text\">Cinematophone</span>,\n",
       " <span class=\"ipc-chip__text\">Cinephone</span>,\n",
       " <span class=\"ipc-chip__text\">Cinerama 7-Track</span>,\n",
       " <span class=\"ipc-chip__text\">Cinesound</span>,\n",
       " <span class=\"ipc-chip__text\">D-Cinema 48kHz 5.1</span>,\n",
       " <span class=\"ipc-chip__text\">Datasat</span>,\n",
       " <span class=\"ipc-chip__text\">De Forest Phonofilm</span>,\n",
       " <span class=\"ipc-chip__text\">Digitrac Digital Audio System</span>,\n",
       " <span class=\"ipc-chip__text\">Dolby</span>,\n",
       " <span class=\"ipc-chip__text\">Dolby Atmos</span>,\n",
       " <span class=\"ipc-chip__text\">Dolby Digital</span>,\n",
       " <span class=\"ipc-chip__text\">Dolby Digital EX</span>,\n",
       " <span class=\"ipc-chip__text\">Dolby SR</span>,\n",
       " <span class=\"ipc-chip__text\">Dolby Stereo</span>,\n",
       " <span class=\"ipc-chip__text\">Dolby Surround 7.1</span>,\n",
       " <span class=\"ipc-chip__text\">DTS</span>,\n",
       " <span class=\"ipc-chip__text\">DTS 70 mm</span>,\n",
       " <span class=\"ipc-chip__text\">DTS Stereo</span>,\n",
       " <span class=\"ipc-chip__text\">DTS-ES</span>,\n",
       " <span class=\"ipc-chip__text\">IMAX 6-Track</span>,\n",
       " <span class=\"ipc-chip__text\">Kinoplasticon</span>,\n",
       " <span class=\"ipc-chip__text\">LC-Concept Digital Sound</span>,\n",
       " <span class=\"ipc-chip__text\">Matrix Surround</span>,\n",
       " <span class=\"ipc-chip__text\">Mono</span>,\n",
       " <span class=\"ipc-chip__text\">Perspecta Stereo</span>,\n",
       " <span class=\"ipc-chip__text\">Phono-Kinema</span>,\n",
       " <span class=\"ipc-chip__text\">SDDS</span>,\n",
       " <span class=\"ipc-chip__text\">Sensurround</span>,\n",
       " <span class=\"ipc-chip__text\">Silent</span>,\n",
       " <span class=\"ipc-chip__text\">Sonics-DDP</span>,\n",
       " <span class=\"ipc-chip__text\">Sonix</span>,\n",
       " <span class=\"ipc-chip__text\">Stereo</span>,\n",
       " <span class=\"ipc-chip__text\">Ultra Stereo</span>,\n",
       " <span class=\"ipc-chip__text\">Vitaphone</span>,\n",
       " <span class=\"ipc-chip__text\">Back to top</span>]"
      ]
     },
     "execution_count": 202,
     "metadata": {},
     "output_type": "execute_result"
    }
   ],
   "source": [
    "# start_date & end_date can be found in <span class=\"ipc-chip__text\">Release Date: January 1, 1990 to December 31, 1992</span>\n",
    "soup.find_all(\"span\", class_='ipc-chip__text')"
   ]
  },
  {
   "cell_type": "code",
   "execution_count": 226,
   "id": "9f03d795-da67-490d-9c56-35ce36f45566",
   "metadata": {},
   "outputs": [
    {
     "name": "stdout",
     "output_type": "stream",
     "text": [
      " GoodFellas - Drei Jahrzehnte in der Mafia\n",
      " Zeit des Erwachens\n",
      " Das Schweigen der Lämmer\n",
      " Kevin - Allein zu Haus\n",
      " Terminator 2: Tag der Abrechnung\n",
      " Reservoir Dogs - Wilde Hunde\n",
      " Erbarmungslos\n",
      " Eine Frage der Ehre\n",
      " Total Recall - Die totale Erinnerung\n",
      " Der Pate 3\n",
      " Der Duft der Frauen\n",
      " Der letzte Mohikaner\n",
      " Der mit dem Wolf tanzt\n",
      " Misery\n",
      " Aladdin\n",
      " Die Schöne und das Biest\n",
      " Jagd auf Roter Oktober\n",
      " Mein Vetter Winnie\n",
      " Thelma & Louise\n",
      " Boyz n the Hood - Jungs im Viertel\n",
      " Edward mit den Scherenhänden\n",
      " Glengarry Glen Ross\n",
      " Zurück in die Zukunft III\n",
      " JFK: Tatort Dallas\n",
      " Grüne Tomaten\n"
     ]
    },
    {
     "ename": "IndexError",
     "evalue": "list index out of range",
     "output_type": "error",
     "traceback": [
      "\u001b[1;31m---------------------------------------------------------------------------\u001b[0m",
      "\u001b[1;31mIndexError\u001b[0m                                Traceback (most recent call last)",
      "Cell \u001b[1;32mIn[226], line 4\u001b[0m\n\u001b[0;32m      1\u001b[0m \u001b[38;5;66;03m# Show all titles\u001b[39;00m\n\u001b[0;32m      2\u001b[0m \u001b[38;5;66;03m# Second value is the title, extract with split, then store in list !\u001b[39;00m\n\u001b[0;32m      3\u001b[0m \u001b[38;5;28;01mfor\u001b[39;00m title \u001b[38;5;129;01min\u001b[39;00m soup\u001b[38;5;241m.\u001b[39mselect(\u001b[38;5;124m\"\u001b[39m\u001b[38;5;124mh3.ipc-title__text\u001b[39m\u001b[38;5;124m\"\u001b[39m):\n\u001b[1;32m----> 4\u001b[0m     title \u001b[38;5;241m=\u001b[39m title\u001b[38;5;241m.\u001b[39mget_text()\u001b[38;5;241m.\u001b[39msplit(\u001b[38;5;124m\"\u001b[39m\u001b[38;5;124m.\u001b[39m\u001b[38;5;124m\"\u001b[39m)[\u001b[38;5;241m1\u001b[39m]\n\u001b[0;32m      5\u001b[0m     \u001b[38;5;28mprint\u001b[39m(title)\n",
      "\u001b[1;31mIndexError\u001b[0m: list index out of range"
     ]
    }
   ],
   "source": [
    "# Show all titles\n",
    "# Second value is the title, extract with split, then store in list !\n",
    "for title in soup.select(\"h3.ipc-title__text\"):\n",
    "    title = title.get_text().split(\".\")[1]\n",
    "    print(title)"
   ]
  },
  {
   "cell_type": "code",
   "execution_count": 230,
   "id": "74e2f006-6183-4474-8c3c-b6cb65d8d772",
   "metadata": {},
   "outputs": [
    {
     "ename": "IndexError",
     "evalue": "list index out of range",
     "output_type": "error",
     "traceback": [
      "\u001b[1;31m---------------------------------------------------------------------------\u001b[0m",
      "\u001b[1;31mIndexError\u001b[0m                                Traceback (most recent call last)",
      "Cell \u001b[1;32mIn[230], line 4\u001b[0m\n\u001b[0;32m      2\u001b[0m titles \u001b[38;5;241m=\u001b[39m []\n\u001b[0;32m      3\u001b[0m \u001b[38;5;28;01mfor\u001b[39;00m title \u001b[38;5;129;01min\u001b[39;00m soup\u001b[38;5;241m.\u001b[39mselect(\u001b[38;5;124m\"\u001b[39m\u001b[38;5;124mh3.ipc-title__text\u001b[39m\u001b[38;5;124m\"\u001b[39m):\n\u001b[1;32m----> 4\u001b[0m     titles\u001b[38;5;241m.\u001b[39mappend(title\u001b[38;5;241m.\u001b[39mget_text()\u001b[38;5;241m.\u001b[39msplit(\u001b[38;5;124m\"\u001b[39m\u001b[38;5;124m.\u001b[39m\u001b[38;5;124m\"\u001b[39m)[\u001b[38;5;241m1\u001b[39m])\n\u001b[0;32m      5\u001b[0m titles\n",
      "\u001b[1;31mIndexError\u001b[0m: list index out of range"
     ]
    }
   ],
   "source": [
    "# Put all titles in a list\n",
    "titles = []\n",
    "for title in soup.select(\"h3.ipc-title__text\"):\n",
    "    titles.append(title.get_text().split(\".\")[1])\n",
    "titles"
   ]
  },
  {
   "cell_type": "code",
   "execution_count": 260,
   "id": "cdd2aaa6-221b-4896-a4ff-6358f5682da7",
   "metadata": {},
   "outputs": [
    {
     "data": {
      "text/plain": [
       "[' GoodFellas - Drei Jahrzehnte in der Mafia',\n",
       " ' Zeit des Erwachens',\n",
       " ' Das Schweigen der Lämmer',\n",
       " ' Kevin - Allein zu Haus',\n",
       " ' Terminator 2: Tag der Abrechnung',\n",
       " ' Reservoir Dogs - Wilde Hunde',\n",
       " ' Erbarmungslos',\n",
       " ' Eine Frage der Ehre',\n",
       " ' Total Recall - Die totale Erinnerung',\n",
       " ' Der Pate 3',\n",
       " ' Der Duft der Frauen',\n",
       " ' Der letzte Mohikaner',\n",
       " ' Der mit dem Wolf tanzt',\n",
       " ' Misery',\n",
       " ' Aladdin',\n",
       " ' Die Schöne und das Biest',\n",
       " ' Jagd auf Roter Oktober',\n",
       " ' Mein Vetter Winnie',\n",
       " ' Thelma & Louise',\n",
       " ' Boyz n the Hood - Jungs im Viertel',\n",
       " ' Edward mit den Scherenhänden',\n",
       " ' Glengarry Glen Ross',\n",
       " ' Zurück in die Zukunft III',\n",
       " ' JFK: Tatort Dallas',\n",
       " ' Grüne Tomaten']"
      ]
     },
     "execution_count": 260,
     "metadata": {},
     "output_type": "execute_result"
    }
   ],
   "source": [
    "titles"
   ]
  },
  {
   "cell_type": "code",
   "execution_count": 262,
   "id": "5569b454-2872-422b-bd6c-43fe331f560a",
   "metadata": {},
   "outputs": [
    {
     "data": {
      "text/plain": [
       "25"
      ]
     },
     "execution_count": 262,
     "metadata": {},
     "output_type": "execute_result"
    }
   ],
   "source": [
    "# Always check the length of output list - are they same length ?\n",
    "len(titles)"
   ]
  },
  {
   "cell_type": "code",
   "execution_count": 264,
   "id": "46891c80-4262-4edf-b7eb-e35c56dec201",
   "metadata": {},
   "outputs": [
    {
     "name": "stdout",
     "output_type": "stream",
     "text": [
      "1\n",
      "2\n",
      "3\n",
      "4\n",
      "5\n",
      "6\n",
      "7\n",
      "8\n",
      "9\n",
      "10\n",
      "11\n",
      "12\n",
      "13\n",
      "14\n",
      "15\n",
      "16\n",
      "17\n",
      "18\n",
      "19\n",
      "20\n",
      "21\n",
      "22\n",
      "23\n",
      "24\n",
      "25\n",
      "Recently viewedRecently viewed\n"
     ]
    }
   ],
   "source": [
    "# Show all movie numbers\n",
    "# First values is the movie number, extract with split, then store in separat list !\n",
    "for number in soup.select(\"h3.ipc-title__text\"):\n",
    "    number = number.get_text().split(\".\")[0]\n",
    "    print(number)"
   ]
  },
  {
   "cell_type": "code",
   "execution_count": 266,
   "id": "be4ec810-894a-4160-969a-e573ee7054a1",
   "metadata": {},
   "outputs": [
    {
     "data": {
      "text/plain": [
       "['1',\n",
       " '2',\n",
       " '3',\n",
       " '4',\n",
       " '5',\n",
       " '6',\n",
       " '7',\n",
       " '8',\n",
       " '9',\n",
       " '10',\n",
       " '11',\n",
       " '12',\n",
       " '13',\n",
       " '14',\n",
       " '15',\n",
       " '16',\n",
       " '17',\n",
       " '18',\n",
       " '19',\n",
       " '20',\n",
       " '21',\n",
       " '22',\n",
       " '23',\n",
       " '24',\n",
       " '25',\n",
       " 'Recently viewedRecently viewed']"
      ]
     },
     "execution_count": 266,
     "metadata": {},
     "output_type": "execute_result"
    }
   ],
   "source": [
    "# Put all movie numbers in a list\n",
    "movie_nr = []\n",
    "for number in soup.select(\"h3.ipc-title__text\"):\n",
    "    movie_nr.append(number.get_text().split(\".\")[0])\n",
    "movie_nr"
   ]
  },
  {
   "cell_type": "code",
   "execution_count": 268,
   "id": "0ceca24e-b4d5-4233-aa2d-96fb9623c09c",
   "metadata": {},
   "outputs": [
    {
     "data": {
      "text/plain": [
       "['1',\n",
       " '2',\n",
       " '3',\n",
       " '4',\n",
       " '5',\n",
       " '6',\n",
       " '7',\n",
       " '8',\n",
       " '9',\n",
       " '10',\n",
       " '11',\n",
       " '12',\n",
       " '13',\n",
       " '14',\n",
       " '15',\n",
       " '16',\n",
       " '17',\n",
       " '18',\n",
       " '19',\n",
       " '20',\n",
       " '21',\n",
       " '22',\n",
       " '23',\n",
       " '24',\n",
       " '25']"
      ]
     },
     "execution_count": 268,
     "metadata": {},
     "output_type": "execute_result"
    }
   ],
   "source": [
    "# Get rid of the last entry: 'Recently viewed'\n",
    "movie_nr = movie_nr[:-1]\n",
    "movie_nr"
   ]
  },
  {
   "cell_type": "code",
   "execution_count": 258,
   "id": "7de18a55-bb2a-4730-9dd8-def0180db235",
   "metadata": {},
   "outputs": [
    {
     "data": {
      "text/plain": [
       "25"
      ]
     },
     "execution_count": 258,
     "metadata": {},
     "output_type": "execute_result"
    }
   ],
   "source": [
    "# Always check the length of output list - are they same length ?\n",
    "len(movie_nr)"
   ]
  },
  {
   "cell_type": "code",
   "execution_count": 270,
   "id": "d5b2378c-3708-4092-bfcf-cf2c41408bfa",
   "metadata": {},
   "outputs": [
    {
     "name": "stdout",
     "output_type": "stream",
     "text": [
      "8.7\n",
      "7.8\n",
      "8.6\n",
      "7.7\n",
      "8.6\n",
      "8.3\n",
      "8.2\n",
      "7.7\n",
      "7.5\n",
      "7.6\n",
      "8.0\n",
      "7.6\n",
      "8.0\n",
      "7.8\n",
      "8.0\n",
      "8.0\n",
      "7.5\n",
      "7.6\n",
      "7.6\n",
      "7.8\n",
      "7.9\n",
      "7.7\n",
      "7.5\n",
      "8.0\n",
      "7.7\n"
     ]
    }
   ],
   "source": [
    "# Show all ratings\n",
    "for rating in soup.select(\"span.ipc-rating-star--rating\"):\n",
    "    print(rating.get_text())"
   ]
  },
  {
   "cell_type": "code",
   "execution_count": 272,
   "id": "8a8f396b-1439-42e4-a95e-bf32e976f512",
   "metadata": {},
   "outputs": [
    {
     "data": {
      "text/plain": [
       "['8.7',\n",
       " '7.8',\n",
       " '8.6',\n",
       " '7.7',\n",
       " '8.6',\n",
       " '8.3',\n",
       " '8.2',\n",
       " '7.7',\n",
       " '7.5',\n",
       " '7.6',\n",
       " '8.0',\n",
       " '7.6',\n",
       " '8.0',\n",
       " '7.8',\n",
       " '8.0',\n",
       " '8.0',\n",
       " '7.5',\n",
       " '7.6',\n",
       " '7.6',\n",
       " '7.8',\n",
       " '7.9',\n",
       " '7.7',\n",
       " '7.5',\n",
       " '8.0',\n",
       " '7.7']"
      ]
     },
     "execution_count": 272,
     "metadata": {},
     "output_type": "execute_result"
    }
   ],
   "source": [
    "# Put all ratings in a list\n",
    "ratings = []\n",
    "for rating in soup.select(\"span.ipc-rating-star--rating\"):\n",
    "    ratings.append(rating.get_text())\n",
    "ratings"
   ]
  },
  {
   "cell_type": "code",
   "execution_count": 274,
   "id": "db5ff0e7-c88d-420f-971c-defbd0859042",
   "metadata": {},
   "outputs": [
    {
     "data": {
      "text/plain": [
       "25"
      ]
     },
     "execution_count": 274,
     "metadata": {},
     "output_type": "execute_result"
    }
   ],
   "source": [
    "# Always check the length of output list - are they same length ?\n",
    "len(ratings)"
   ]
  },
  {
   "cell_type": "code",
   "execution_count": 142,
   "id": "b51ec917-2b2c-4418-8ab0-2a3c9684f6a2",
   "metadata": {},
   "outputs": [],
   "source": [
    "# Show all start and end dates - This does not work !\n",
    "# for date in soup.select(\"span.ipc-chip__text\"):\n",
    "#    print(date.get_text())"
   ]
  },
  {
   "cell_type": "code",
   "execution_count": 144,
   "id": "82fdc91d-018d-44ca-baaa-9cf344ee230d",
   "metadata": {},
   "outputs": [],
   "source": [
    "# Put all start and end dates into a list - this does not work !\n",
    "# dates = []\n",
    "# for date in soup.select(\"span.ipc-chip__text\"):\n",
    "#     dates.append(date.get_text())\n",
    "# dates"
   ]
  },
  {
   "cell_type": "code",
   "execution_count": 276,
   "id": "36a0e8fe-a504-4cc6-9a2c-6dc24f9f338f",
   "metadata": {},
   "outputs": [
    {
     "name": "stdout",
     "output_type": "stream",
     "text": [
      "1990-01-01\n",
      "1992-12-31\n"
     ]
    }
   ],
   "source": [
    "# Create start and end date variables by myself\n",
    "from datetime import date\n",
    "start_date = date(1990,1,1)\n",
    "end_date = date(1992,12,31)\n",
    "print(start_date)\n",
    "print(end_date)"
   ]
  },
  {
   "cell_type": "code",
   "execution_count": 278,
   "id": "291d90c6-3738-41a1-a3b4-076778e8adcd",
   "metadata": {},
   "outputs": [
    {
     "data": {
      "text/plain": [
       "['The story of Henry Hill and his life in the mafia, covering his relationship with his wife Karen and his mob partners Jimmy Conway and Tommy DeVito.',\n",
       " \"Dr. Sayer is a pioneering neurologist who wants to take a risk and give his patients who suffer from encephalitis a drug used for Parkinson's Disease. He tries it out on one man who miraculously wakes from his perpetual catatonic state.\",\n",
       " 'A young F.B.I. cadet must receive the help of an incarcerated and manipulative cannibal killer to help catch another serial killer, a madman who skins his victims.',\n",
       " 'An eight-year-old troublemaker, mistakenly left home alone, must defend his home against a pair of burglars on Christmas Eve.',\n",
       " 'A cyborg, identical to the one who failed to kill Sarah Connor, must now protect her ten year old son John from an even more advanced and powerful cyborg.',\n",
       " 'When a simple jewelry heist goes horribly wrong, the surviving criminals begin to suspect that one of them is a police informant.',\n",
       " 'Retired Old West gunslinger Will Munny reluctantly takes on one last job to avenge an injustice with the help of his old partner and a newer outlaw known simply as The Schofield Kid.',\n",
       " \"A military lawyer is tasked with defending two US Marines charged with murdering a fellow Marine and intends to prove they were only following their base commander's orders.\",\n",
       " 'When a man goes in to have virtual vacation memories of the planet Mars implanted in his mind, an unexpected and harrowing series of events forces him to go to the planet for real - or is he?',\n",
       " 'Follows Michael Corleone, now in his 60s, as he seeks to free his family from crime and find a suitable successor to his empire.',\n",
       " 'A prep school student needing money agrees to \"babysit\" a blind man, but the job is not at all what he anticipated.',\n",
       " 'Three Mohican trappers agree to protect the daughters of a British Colonel in the midst of the French and Indian War.',\n",
       " 'A lieutenant assigned to a remote Civil War outpost starts questioning his purpose after making contact with a neighboring Sioux settlement.',\n",
       " 'After a famous author is rescued from a car crash by a fan of his novels, he comes to realize that the care he is receiving is only the beginning of a nightmare of captivity and abuse.',\n",
       " 'A kind-hearted street urchin and a power-hungry Grand Vizier vie for a magic lamp that has the power to make their deepest wishes come true.',\n",
       " \"A prince cursed to spend his days as a hideous monster sets out to regain his humanity by earning a young woman's love.\",\n",
       " \"In November 1984, the Soviet Union's best submarine captain violates orders and heads for the U.S. in a new undetectable sub. The American CIA and military must quickly determine: Is he trying to defect or to start a war?\",\n",
       " 'Two New Yorkers accused of murder in rural Alabama while on their way back to college call in the help of one of their cousins, a loudmouth lawyer with no trial experience.',\n",
       " 'Two best friends set out on an adventure, but it soon turns around to a terrifying escape from being hunted by the police, as these two women escape for the crimes they committed.',\n",
       " 'Follows the lives of three young males living in the Crenshaw ghetto of Los Angeles, dissecting questions of race, relationships, violence, and future prospects.',\n",
       " 'The solitary life of an artificial man - who was incompletely constructed and has scissors for hands - is upended when he is taken in by a suburban family.',\n",
       " 'An examination of the machinations behind the scenes at a real estate office.',\n",
       " 'Stranded in 1955, Marty McFly learns about the death of Doc Brown in 1885 and must travel back in time to save him. With no fuel readily available for the DeLorean, the two must figure how to escape the Old West before Emmett is murdered.',\n",
       " \"New Orleans District Attorney Jim Garrison discovers there's more to the Kennedy assassination than the official story.\",\n",
       " 'Evelyn, an ordinary housewife, visits a nursing home and befriends the old lady Ninny. Together, they bond over stories from the past about two intrepid women of Whistle Stop Cafe.']"
      ]
     },
     "execution_count": 278,
     "metadata": {},
     "output_type": "execute_result"
    }
   ],
   "source": [
    "# Descriptions list \n",
    "descriptions = []\n",
    "for description in soup.select(\"div.ipc-html-content-inner-div\"):\n",
    "    descriptions.append(description.get_text())\n",
    "descriptions"
   ]
  },
  {
   "cell_type": "code",
   "execution_count": 280,
   "id": "bdcc9407-9ccf-4389-b0c6-cb14f7a79cb2",
   "metadata": {},
   "outputs": [
    {
     "data": {
      "text/plain": [
       "25"
      ]
     },
     "execution_count": 280,
     "metadata": {},
     "output_type": "execute_result"
    }
   ],
   "source": [
    "# Always check the length of output list - are they same length ?\n",
    "len(descriptions)"
   ]
  },
  {
   "cell_type": "code",
   "execution_count": 282,
   "id": "643c6dc6-fc7b-4ac4-adab-0d6fe8402e36",
   "metadata": {},
   "outputs": [
    {
     "name": "stdout",
     "output_type": "stream",
     "text": [
      " (1.3M)\n",
      " (165K)\n",
      " (1.6M)\n",
      " (689K)\n",
      " (1.2M)\n",
      " (1.1M)\n",
      " (448K)\n",
      " (298K)\n",
      " (364K)\n",
      " (435K)\n",
      " (342K)\n",
      " (194K)\n",
      " (298K)\n",
      " (246K)\n",
      " (482K)\n",
      " (489K)\n",
      " (221K)\n",
      " (147K)\n",
      " (180K)\n",
      " (160K)\n",
      " (541K)\n",
      " (120K)\n",
      " (495K)\n",
      " (175K)\n",
      " (86K)\n"
     ]
    }
   ],
   "source": [
    "# Show all votes\n",
    "for vote in soup.select(\"span.ipc-rating-star--voteCount\"):\n",
    "    print(vote.get_text())"
   ]
  },
  {
   "cell_type": "code",
   "execution_count": 288,
   "id": "4378f1c9-6f7d-4d61-a79d-90c3c297a10a",
   "metadata": {},
   "outputs": [
    {
     "data": {
      "text/plain": [
       "['1.3M',\n",
       " '165K',\n",
       " '1.6M',\n",
       " '689K',\n",
       " '1.2M',\n",
       " '1.1M',\n",
       " '448K',\n",
       " '298K',\n",
       " '364K',\n",
       " '435K',\n",
       " '342K',\n",
       " '194K',\n",
       " '298K',\n",
       " '246K',\n",
       " '482K',\n",
       " '489K',\n",
       " '221K',\n",
       " '147K',\n",
       " '180K',\n",
       " '160K',\n",
       " '541K',\n",
       " '120K',\n",
       " '495K',\n",
       " '175K',\n",
       " '86K']"
      ]
     },
     "execution_count": 288,
     "metadata": {},
     "output_type": "execute_result"
    }
   ],
   "source": [
    "# Create votes list\n",
    "# strip \"\\xa=(\" and then \")\"\n",
    "votes = []\n",
    "for vote in soup.select(\"span.ipc-rating-star--voteCount\"):\n",
    "    votes.append(vote.get_text().strip(\"\\xa0(\").strip(\")\"))\n",
    "votes"
   ]
  },
  {
   "cell_type": "code",
   "execution_count": 170,
   "id": "8e169d75-d84d-44ae-94a1-b7884b430a5e",
   "metadata": {},
   "outputs": [],
   "source": [
    "# Marias version:\n",
    "# votes[0].getText()[2:-1]"
   ]
  },
  {
   "cell_type": "code",
   "execution_count": 290,
   "id": "e91be894-aa02-4ef9-88a1-74d74a26d8bf",
   "metadata": {},
   "outputs": [
    {
     "data": {
      "text/plain": [
       "25"
      ]
     },
     "execution_count": 290,
     "metadata": {},
     "output_type": "execute_result"
    }
   ],
   "source": [
    "# Always check the length of output list - are they same length ?\n",
    "len(votes)"
   ]
  },
  {
   "cell_type": "code",
   "execution_count": 318,
   "id": "16407153-101e-483e-abb4-242401f987b9",
   "metadata": {},
   "outputs": [
    {
     "name": "stdout",
     "output_type": "stream",
     "text": [
      "1990\n",
      "2h 25m\n",
      "16\n",
      "1990\n",
      "2h 1m\n",
      "12\n",
      "1991\n",
      "1h 58m\n",
      "16\n",
      "1990\n",
      "1h 43m\n",
      "12\n",
      "1991\n",
      "2h 17m\n",
      "16\n",
      "1992\n",
      "1h 39m\n",
      "18\n",
      "1992\n",
      "2h 10m\n",
      "16\n",
      "1992\n",
      "2h 18m\n",
      "12\n",
      "1990\n",
      "1h 53m\n",
      "18\n",
      "1990\n",
      "2h 42m\n",
      "16\n",
      "1992\n",
      "2h 36m\n",
      "12\n",
      "1992\n",
      "1h 52m\n",
      "16\n",
      "1990\n",
      "3h 1m\n",
      "12\n",
      "1990\n",
      "1h 47m\n",
      "16\n",
      "1992\n",
      "1h 30m\n",
      "0\n",
      "1991\n",
      "1h 24m\n",
      "0\n",
      "1990\n",
      "2h 15m\n",
      "12\n",
      "1992\n",
      "2h\n",
      "6\n",
      "1991\n",
      "2h 10m\n",
      "16\n",
      "1991\n",
      "1h 52m\n",
      "16\n",
      "1990\n",
      "1h 45m\n",
      "6\n",
      "1992\n",
      "1h 40m\n",
      "12\n",
      "1990\n",
      "1h 58m\n",
      "6\n",
      "1991\n",
      "3h 9m\n",
      "12\n",
      "1991\n",
      "2h 10m\n",
      "6\n"
     ]
    }
   ],
   "source": [
    "# Create a Release Year list.\n",
    "for year in soup.select(\"span.sc-300a8231-7.eaXxft.dli-title-metadata-item\"):\n",
    "    print(year.get_text())"
   ]
  },
  {
   "cell_type": "code",
   "execution_count": 344,
   "id": "10742364-461e-4e61-852d-186f34c036ef",
   "metadata": {},
   "outputs": [
    {
     "data": {
      "text/plain": [
       "['1990',\n",
       " '2h 25m',\n",
       " '16',\n",
       " '1990',\n",
       " '2h 1m',\n",
       " '12',\n",
       " '1991',\n",
       " '1h 58m',\n",
       " '16',\n",
       " '1990',\n",
       " '1h 43m',\n",
       " '12',\n",
       " '1991',\n",
       " '2h 17m',\n",
       " '16',\n",
       " '1992',\n",
       " '1h 39m',\n",
       " '18',\n",
       " '1992',\n",
       " '2h 10m',\n",
       " '16',\n",
       " '1992',\n",
       " '2h 18m',\n",
       " '12',\n",
       " '1990',\n",
       " '1h 53m',\n",
       " '18',\n",
       " '1990',\n",
       " '2h 42m',\n",
       " '16',\n",
       " '1992',\n",
       " '2h 36m',\n",
       " '12',\n",
       " '1992',\n",
       " '1h 52m',\n",
       " '16',\n",
       " '1990',\n",
       " '3h 1m',\n",
       " '12',\n",
       " '1990',\n",
       " '1h 47m',\n",
       " '16',\n",
       " '1992',\n",
       " '1h 30m',\n",
       " '0',\n",
       " '1991',\n",
       " '1h 24m',\n",
       " '0',\n",
       " '1990',\n",
       " '2h 15m',\n",
       " '12',\n",
       " '1992',\n",
       " '2h',\n",
       " '6',\n",
       " '1991',\n",
       " '2h 10m',\n",
       " '16',\n",
       " '1991',\n",
       " '1h 52m',\n",
       " '16',\n",
       " '1990',\n",
       " '1h 45m',\n",
       " '6',\n",
       " '1992',\n",
       " '1h 40m',\n",
       " '12',\n",
       " '1990',\n",
       " '1h 58m',\n",
       " '6',\n",
       " '1991',\n",
       " '3h 9m',\n",
       " '12',\n",
       " '1991',\n",
       " '2h 10m',\n",
       " '6']"
      ]
     },
     "execution_count": 344,
     "metadata": {},
     "output_type": "execute_result"
    }
   ],
   "source": [
    "# Extract first value, because List contains release year, runtime, and age limit.\n",
    "release_year = []\n",
    "for year in soup.select(\"span.sc-300a8231-7.eaXxft.dli-title-metadata-item\"):\n",
    "    release_year.append(year.get_text())\n",
    "release_year"
   ]
  },
  {
   "cell_type": "code",
   "execution_count": 346,
   "id": "8bf16adf-64f9-4212-814a-948cc09df3d4",
   "metadata": {},
   "outputs": [
    {
     "data": {
      "text/plain": [
       "['2h 25m',\n",
       " '2h 1m',\n",
       " '1h 58m',\n",
       " '1h 43m',\n",
       " '2h 17m',\n",
       " '1h 39m',\n",
       " '2h 10m',\n",
       " '2h 18m',\n",
       " '1h 53m',\n",
       " '2h 42m',\n",
       " '2h 36m',\n",
       " '1h 52m',\n",
       " '3h 1m',\n",
       " '1h 47m',\n",
       " '1h 30m',\n",
       " '1h 24m',\n",
       " '2h 15m',\n",
       " '2h',\n",
       " '2h 10m',\n",
       " '1h 52m',\n",
       " '1h 45m',\n",
       " '1h 40m',\n",
       " '1h 58m',\n",
       " '3h 9m',\n",
       " '2h 10m']"
      ]
     },
     "execution_count": 346,
     "metadata": {},
     "output_type": "execute_result"
    }
   ],
   "source": [
    "# Create a Runtimes list:\n",
    "# Runtimes list in _h _m format, but should be in  minutes format !\n",
    "# Extract second value, because List contains release year, runtime, and age limit.\n",
    "runtimes = release_year[1::3]\n",
    "runtimes"
   ]
  },
  {
   "cell_type": "code",
   "execution_count": 348,
   "id": "e758ee0e-4749-4875-a4d4-ae58e371befa",
   "metadata": {},
   "outputs": [
    {
     "data": {
      "text/plain": [
       "['1990',\n",
       " '1990',\n",
       " '1991',\n",
       " '1990',\n",
       " '1991',\n",
       " '1992',\n",
       " '1992',\n",
       " '1992',\n",
       " '1990',\n",
       " '1990',\n",
       " '1992',\n",
       " '1992',\n",
       " '1990',\n",
       " '1990',\n",
       " '1992',\n",
       " '1991',\n",
       " '1990',\n",
       " '1992',\n",
       " '1991',\n",
       " '1991',\n",
       " '1990',\n",
       " '1992',\n",
       " '1990',\n",
       " '1991',\n",
       " '1991']"
      ]
     },
     "execution_count": 348,
     "metadata": {},
     "output_type": "execute_result"
    }
   ],
   "source": [
    "# Extract first value, because List contains release year, runtime, and age limit.\n",
    "release_year = release_year[::3]\n",
    "release_year"
   ]
  },
  {
   "cell_type": "code",
   "execution_count": 350,
   "id": "96204f6a-7246-4186-86b5-d55e37aea1d6",
   "metadata": {},
   "outputs": [
    {
     "data": {
      "text/plain": [
       "25"
      ]
     },
     "execution_count": 350,
     "metadata": {},
     "output_type": "execute_result"
    }
   ],
   "source": [
    "# Always check the length of output list - are they same length ?\n",
    "len(release_year)"
   ]
  },
  {
   "cell_type": "code",
   "execution_count": 352,
   "id": "0efe36d4-545c-41d6-9ba7-47c5be475be5",
   "metadata": {},
   "outputs": [
    {
     "data": {
      "text/plain": [
       "25"
      ]
     },
     "execution_count": 352,
     "metadata": {},
     "output_type": "execute_result"
    }
   ],
   "source": [
    "# Always check the length of output list - are they same length ?\n",
    "len(runtimes)"
   ]
  },
  {
   "cell_type": "code",
   "execution_count": 356,
   "id": "59de3a42-dddf-49df-8b21-ed61a6186b80",
   "metadata": {},
   "outputs": [],
   "source": [
    "# alternative runtime with select:\n",
    "# runtime = soup.select(\"span.sc-300a8231-7.eaXxft.dli-title-metadata-item\")\n",
    "# When using select, empty spaces need to be replaced with dots !!!!!!"
   ]
  },
  {
   "cell_type": "code",
   "execution_count": 358,
   "id": "7c246a25-9141-4f55-992d-d30ea5bbe2b4",
   "metadata": {},
   "outputs": [],
   "source": [
    "# runtimes = []\n",
    "# for runtime in soup.select(\"span.sc-300a8231-7.eaXxft.dli-title-metadata-item\"):\n",
    "#    runtimes.append(runtime.get_text())\n",
    "# runtimes"
   ]
  },
  {
   "cell_type": "code",
   "execution_count": 436,
   "id": "66c22909-379c-40f6-a8f3-6d2ac4afda38",
   "metadata": {},
   "outputs": [],
   "source": [
    "# A function named scrape_imdb that takes four parameters: title_type, user_rating, start_date, and end_date.\n",
    "# The function should return a DataFrame with the following columns:\n",
    "# Movie Nr: The number representing the movie’s position in the list. xxxxxxxxxxx\n",
    "# Title: The title of the movie. xxxxxxxxxxxxxxxxxxxxxx\n",
    "# Year: The year the movie was released. xxxxxxxxxxxxxxxxxxx\n",
    "# Rating: The IMDb rating of the movie. xxxxxxxxxxxxxxxxxxxx\n",
    "# Runtime (min): The duration of the movie in minutes. xxxxxxxxxxxxxxxxx\n",
    "# Description: A brief description of the movie. xxxxxxxxxxxxxx\n",
    "# Votes: The number of votes the movie received. XXXXXXXXXXXXXXX"
   ]
  },
  {
   "cell_type": "code",
   "execution_count": 490,
   "id": "0869d2bf-f222-4512-bf99-fa795ab1a158",
   "metadata": {},
   "outputs": [],
   "source": [
    "from itertools import islice\n",
    "\n",
    "def scrape_imdb(input_titles, input_ratings, start_date, end_date):\n",
    "    url = f'https://www.imdb.com/search/title/?title_type={input_titles}&release_date={start_date},{end_date}&user_rating={input_ratings}'\n",
    "    headers = {\n",
    "    'User-Agent': 'Mozilla/5.0 (Windows NT 10.0; Win64; x64) AppleWebKit/537.36 (KHTML, like Gecko) Chrome/96.0.4664.110 Safari/537.36'\n",
    "    }\n",
    "    response = requests.get(url, headers=headers)\n",
    "    soup = BeautifulSoup(response.content, \"html.parser\")\n",
    "\n",
    "    # List Initialization:\n",
    "    movie_data = []  # Store all movie data in a list of dictionaries\n",
    "\n",
    "    movies = soup.select(\"li.ipc-metadata-list-summary-item\")\n",
    "    for movie in islice(movies, 25):  # Limit to 25 movies\n",
    "        movie_info = {}  # Dictionary to store info for each movie\n",
    "        \n",
    "        for key, selector in [\n",
    "            (\"Movie Nr\", \"h3.ipc-title__text\"),\n",
    "            (\"Title\", \"h3.ipc-title__text\"),\n",
    "            (\"Year\", \"span.sc-300a8231-7.eaXxft.dli-title-metadata-item\"),\n",
    "            (\"Rating\", \"span.ipc-rating-star--rating\"),\n",
    "            (\"Runtime\", \"span.sc-300a8231-7.eaXxft.dli-title-metadata-item\"),\n",
    "            (\"Description\", \"div.ipc-html-content-inner-div\"),\n",
    "            (\"Votes\", \"span.ipc-rating-star--voteCount\"),\n",
    "        ]:\n",
    "            element = movie.select_one(selector)\n",
    "            if element:\n",
    "                if key == \"Movie Nr\":\n",
    "                    movie_info[key] = element.get_text().strip().split(\".\")[0]\n",
    "                if key == \"Year\":\n",
    "                    movie_info[key] = element.get_text()[0::3]\n",
    "                elif key == \"Runtime\":\n",
    "                    movie_info[key] = element.get_text()[1::3]\n",
    "                elif key == \"Description\":\n",
    "                    movie_info[key] = element.get_text().strip() # Get full description\n",
    "                else:\n",
    "                    movie_info[key] = element.get_text().strip()\n",
    "            else:\n",
    "                movie_info[key] = \"N/A\"\n",
    "\n",
    "        movie_data.append(movie_info)\n",
    "\n",
    "    movies_df = pd.DataFrame(movie_data)\n",
    "    return movies_df\n"
   ]
  },
  {
   "cell_type": "code",
   "execution_count": 492,
   "id": "b7f17668-13bc-4c84-9804-b95c3485c70a",
   "metadata": {},
   "outputs": [
    {
     "data": {
      "text/html": [
       "<div>\n",
       "<style scoped>\n",
       "    .dataframe tbody tr th:only-of-type {\n",
       "        vertical-align: middle;\n",
       "    }\n",
       "\n",
       "    .dataframe tbody tr th {\n",
       "        vertical-align: top;\n",
       "    }\n",
       "\n",
       "    .dataframe thead th {\n",
       "        text-align: right;\n",
       "    }\n",
       "</style>\n",
       "<table border=\"1\" class=\"dataframe\">\n",
       "  <thead>\n",
       "    <tr style=\"text-align: right;\">\n",
       "      <th></th>\n",
       "      <th>Movie Nr</th>\n",
       "      <th>Title</th>\n",
       "      <th>Year</th>\n",
       "      <th>Rating</th>\n",
       "      <th>Runtime</th>\n",
       "      <th>Description</th>\n",
       "      <th>Votes</th>\n",
       "    </tr>\n",
       "  </thead>\n",
       "  <tbody>\n",
       "    <tr>\n",
       "      <th>0</th>\n",
       "      <td>1. GoodFellas - Drei Jahrzehnte in der Mafia</td>\n",
       "      <td>1. GoodFellas - Drei Jahrzehnte in der Mafia</td>\n",
       "      <td>10</td>\n",
       "      <td>8.7</td>\n",
       "      <td>9</td>\n",
       "      <td>The story of Henry Hill and his life in the ma...</td>\n",
       "      <td>(1.3M)</td>\n",
       "    </tr>\n",
       "    <tr>\n",
       "      <th>1</th>\n",
       "      <td>2. Zeit des Erwachens</td>\n",
       "      <td>2. Zeit des Erwachens</td>\n",
       "      <td>10</td>\n",
       "      <td>7.8</td>\n",
       "      <td>9</td>\n",
       "      <td>Dr. Sayer is a pioneering neurologist who want...</td>\n",
       "      <td>(165K)</td>\n",
       "    </tr>\n",
       "    <tr>\n",
       "      <th>2</th>\n",
       "      <td>3. Das Schweigen der Lämmer</td>\n",
       "      <td>3. Das Schweigen der Lämmer</td>\n",
       "      <td>11</td>\n",
       "      <td>8.6</td>\n",
       "      <td>9</td>\n",
       "      <td>A young F.B.I. cadet must receive the help of ...</td>\n",
       "      <td>(1.6M)</td>\n",
       "    </tr>\n",
       "    <tr>\n",
       "      <th>3</th>\n",
       "      <td>4. Kevin - Allein zu Haus</td>\n",
       "      <td>4. Kevin - Allein zu Haus</td>\n",
       "      <td>10</td>\n",
       "      <td>7.7</td>\n",
       "      <td>9</td>\n",
       "      <td>An eight-year-old troublemaker, mistakenly lef...</td>\n",
       "      <td>(689K)</td>\n",
       "    </tr>\n",
       "    <tr>\n",
       "      <th>4</th>\n",
       "      <td>5. Terminator 2: Tag der Abrechnung</td>\n",
       "      <td>5. Terminator 2: Tag der Abrechnung</td>\n",
       "      <td>11</td>\n",
       "      <td>8.6</td>\n",
       "      <td>9</td>\n",
       "      <td>A cyborg, identical to the one who failed to k...</td>\n",
       "      <td>(1.2M)</td>\n",
       "    </tr>\n",
       "    <tr>\n",
       "      <th>5</th>\n",
       "      <td>6. Reservoir Dogs - Wilde Hunde</td>\n",
       "      <td>6. Reservoir Dogs - Wilde Hunde</td>\n",
       "      <td>12</td>\n",
       "      <td>8.3</td>\n",
       "      <td>9</td>\n",
       "      <td>When a simple jewelry heist goes horribly wron...</td>\n",
       "      <td>(1.1M)</td>\n",
       "    </tr>\n",
       "    <tr>\n",
       "      <th>6</th>\n",
       "      <td>7. Erbarmungslos</td>\n",
       "      <td>7. Erbarmungslos</td>\n",
       "      <td>12</td>\n",
       "      <td>8.2</td>\n",
       "      <td>9</td>\n",
       "      <td>Retired Old West gunslinger Will Munny relucta...</td>\n",
       "      <td>(448K)</td>\n",
       "    </tr>\n",
       "    <tr>\n",
       "      <th>7</th>\n",
       "      <td>8. Eine Frage der Ehre</td>\n",
       "      <td>8. Eine Frage der Ehre</td>\n",
       "      <td>12</td>\n",
       "      <td>7.7</td>\n",
       "      <td>9</td>\n",
       "      <td>A military lawyer is tasked with defending two...</td>\n",
       "      <td>(298K)</td>\n",
       "    </tr>\n",
       "    <tr>\n",
       "      <th>8</th>\n",
       "      <td>9. Total Recall - Die totale Erinnerung</td>\n",
       "      <td>9. Total Recall - Die totale Erinnerung</td>\n",
       "      <td>10</td>\n",
       "      <td>7.5</td>\n",
       "      <td>9</td>\n",
       "      <td>When a man goes in to have virtual vacation me...</td>\n",
       "      <td>(364K)</td>\n",
       "    </tr>\n",
       "    <tr>\n",
       "      <th>9</th>\n",
       "      <td>10. Der Pate 3</td>\n",
       "      <td>10. Der Pate 3</td>\n",
       "      <td>10</td>\n",
       "      <td>7.6</td>\n",
       "      <td>9</td>\n",
       "      <td>Follows Michael Corleone, now in his 60s, as h...</td>\n",
       "      <td>(435K)</td>\n",
       "    </tr>\n",
       "    <tr>\n",
       "      <th>10</th>\n",
       "      <td>11. Der Duft der Frauen</td>\n",
       "      <td>11. Der Duft der Frauen</td>\n",
       "      <td>12</td>\n",
       "      <td>8.0</td>\n",
       "      <td>9</td>\n",
       "      <td>A prep school student needing money agrees to ...</td>\n",
       "      <td>(342K)</td>\n",
       "    </tr>\n",
       "    <tr>\n",
       "      <th>11</th>\n",
       "      <td>12. Der letzte Mohikaner</td>\n",
       "      <td>12. Der letzte Mohikaner</td>\n",
       "      <td>12</td>\n",
       "      <td>7.6</td>\n",
       "      <td>9</td>\n",
       "      <td>Three Mohican trappers agree to protect the da...</td>\n",
       "      <td>(195K)</td>\n",
       "    </tr>\n",
       "    <tr>\n",
       "      <th>12</th>\n",
       "      <td>13. Der mit dem Wolf tanzt</td>\n",
       "      <td>13. Der mit dem Wolf tanzt</td>\n",
       "      <td>10</td>\n",
       "      <td>8.0</td>\n",
       "      <td>9</td>\n",
       "      <td>A lieutenant assigned to a remote Civil War ou...</td>\n",
       "      <td>(298K)</td>\n",
       "    </tr>\n",
       "    <tr>\n",
       "      <th>13</th>\n",
       "      <td>14. Misery</td>\n",
       "      <td>14. Misery</td>\n",
       "      <td>10</td>\n",
       "      <td>7.8</td>\n",
       "      <td>9</td>\n",
       "      <td>After a famous author is rescued from a car cr...</td>\n",
       "      <td>(246K)</td>\n",
       "    </tr>\n",
       "    <tr>\n",
       "      <th>14</th>\n",
       "      <td>15. Aladdin</td>\n",
       "      <td>15. Aladdin</td>\n",
       "      <td>12</td>\n",
       "      <td>8.0</td>\n",
       "      <td>9</td>\n",
       "      <td>A kind-hearted street urchin and a power-hungr...</td>\n",
       "      <td>(482K)</td>\n",
       "    </tr>\n",
       "    <tr>\n",
       "      <th>15</th>\n",
       "      <td>16. Die Schöne und das Biest</td>\n",
       "      <td>16. Die Schöne und das Biest</td>\n",
       "      <td>11</td>\n",
       "      <td>8.0</td>\n",
       "      <td>9</td>\n",
       "      <td>A prince cursed to spend his days as a hideous...</td>\n",
       "      <td>(489K)</td>\n",
       "    </tr>\n",
       "    <tr>\n",
       "      <th>16</th>\n",
       "      <td>17. Jagd auf Roter Oktober</td>\n",
       "      <td>17. Jagd auf Roter Oktober</td>\n",
       "      <td>10</td>\n",
       "      <td>7.5</td>\n",
       "      <td>9</td>\n",
       "      <td>In November 1984, the Soviet Union's best subm...</td>\n",
       "      <td>(221K)</td>\n",
       "    </tr>\n",
       "    <tr>\n",
       "      <th>17</th>\n",
       "      <td>18. Mein Vetter Winnie</td>\n",
       "      <td>18. Mein Vetter Winnie</td>\n",
       "      <td>12</td>\n",
       "      <td>7.6</td>\n",
       "      <td>9</td>\n",
       "      <td>Two New Yorkers accused of murder in rural Ala...</td>\n",
       "      <td>(147K)</td>\n",
       "    </tr>\n",
       "    <tr>\n",
       "      <th>18</th>\n",
       "      <td>19. Thelma &amp; Louise</td>\n",
       "      <td>19. Thelma &amp; Louise</td>\n",
       "      <td>11</td>\n",
       "      <td>7.6</td>\n",
       "      <td>9</td>\n",
       "      <td>Two best friends set out on an adventure, but ...</td>\n",
       "      <td>(180K)</td>\n",
       "    </tr>\n",
       "    <tr>\n",
       "      <th>19</th>\n",
       "      <td>20. Boyz n the Hood - Jungs im Viertel</td>\n",
       "      <td>20. Boyz n the Hood - Jungs im Viertel</td>\n",
       "      <td>11</td>\n",
       "      <td>7.8</td>\n",
       "      <td>9</td>\n",
       "      <td>Follows the lives of three young males living ...</td>\n",
       "      <td>(160K)</td>\n",
       "    </tr>\n",
       "    <tr>\n",
       "      <th>20</th>\n",
       "      <td>21. Edward mit den Scherenhänden</td>\n",
       "      <td>21. Edward mit den Scherenhänden</td>\n",
       "      <td>10</td>\n",
       "      <td>7.9</td>\n",
       "      <td>9</td>\n",
       "      <td>The solitary life of an artificial man - who w...</td>\n",
       "      <td>(541K)</td>\n",
       "    </tr>\n",
       "    <tr>\n",
       "      <th>21</th>\n",
       "      <td>22. Glengarry Glen Ross</td>\n",
       "      <td>22. Glengarry Glen Ross</td>\n",
       "      <td>12</td>\n",
       "      <td>7.7</td>\n",
       "      <td>9</td>\n",
       "      <td>An examination of the machinations behind the ...</td>\n",
       "      <td>(120K)</td>\n",
       "    </tr>\n",
       "    <tr>\n",
       "      <th>22</th>\n",
       "      <td>23. Zurück in die Zukunft III</td>\n",
       "      <td>23. Zurück in die Zukunft III</td>\n",
       "      <td>10</td>\n",
       "      <td>7.5</td>\n",
       "      <td>9</td>\n",
       "      <td>Stranded in 1955, Marty McFly learns about the...</td>\n",
       "      <td>(495K)</td>\n",
       "    </tr>\n",
       "    <tr>\n",
       "      <th>23</th>\n",
       "      <td>24. JFK: Tatort Dallas</td>\n",
       "      <td>24. JFK: Tatort Dallas</td>\n",
       "      <td>11</td>\n",
       "      <td>8.0</td>\n",
       "      <td>9</td>\n",
       "      <td>New Orleans District Attorney Jim Garrison dis...</td>\n",
       "      <td>(175K)</td>\n",
       "    </tr>\n",
       "    <tr>\n",
       "      <th>24</th>\n",
       "      <td>25. Grüne Tomaten</td>\n",
       "      <td>25. Grüne Tomaten</td>\n",
       "      <td>11</td>\n",
       "      <td>7.7</td>\n",
       "      <td>9</td>\n",
       "      <td>Evelyn, an ordinary housewife, visits a nursin...</td>\n",
       "      <td>(87K)</td>\n",
       "    </tr>\n",
       "  </tbody>\n",
       "</table>\n",
       "</div>"
      ],
      "text/plain": [
       "                                        Movie Nr  \\\n",
       "0   1. GoodFellas - Drei Jahrzehnte in der Mafia   \n",
       "1                          2. Zeit des Erwachens   \n",
       "2                    3. Das Schweigen der Lämmer   \n",
       "3                      4. Kevin - Allein zu Haus   \n",
       "4            5. Terminator 2: Tag der Abrechnung   \n",
       "5                6. Reservoir Dogs - Wilde Hunde   \n",
       "6                               7. Erbarmungslos   \n",
       "7                         8. Eine Frage der Ehre   \n",
       "8        9. Total Recall - Die totale Erinnerung   \n",
       "9                                 10. Der Pate 3   \n",
       "10                       11. Der Duft der Frauen   \n",
       "11                      12. Der letzte Mohikaner   \n",
       "12                    13. Der mit dem Wolf tanzt   \n",
       "13                                    14. Misery   \n",
       "14                                   15. Aladdin   \n",
       "15                  16. Die Schöne und das Biest   \n",
       "16                    17. Jagd auf Roter Oktober   \n",
       "17                        18. Mein Vetter Winnie   \n",
       "18                           19. Thelma & Louise   \n",
       "19        20. Boyz n the Hood - Jungs im Viertel   \n",
       "20              21. Edward mit den Scherenhänden   \n",
       "21                       22. Glengarry Glen Ross   \n",
       "22                 23. Zurück in die Zukunft III   \n",
       "23                        24. JFK: Tatort Dallas   \n",
       "24                             25. Grüne Tomaten   \n",
       "\n",
       "                                           Title Year Rating Runtime  \\\n",
       "0   1. GoodFellas - Drei Jahrzehnte in der Mafia   10    8.7       9   \n",
       "1                          2. Zeit des Erwachens   10    7.8       9   \n",
       "2                    3. Das Schweigen der Lämmer   11    8.6       9   \n",
       "3                      4. Kevin - Allein zu Haus   10    7.7       9   \n",
       "4            5. Terminator 2: Tag der Abrechnung   11    8.6       9   \n",
       "5                6. Reservoir Dogs - Wilde Hunde   12    8.3       9   \n",
       "6                               7. Erbarmungslos   12    8.2       9   \n",
       "7                         8. Eine Frage der Ehre   12    7.7       9   \n",
       "8        9. Total Recall - Die totale Erinnerung   10    7.5       9   \n",
       "9                                 10. Der Pate 3   10    7.6       9   \n",
       "10                       11. Der Duft der Frauen   12    8.0       9   \n",
       "11                      12. Der letzte Mohikaner   12    7.6       9   \n",
       "12                    13. Der mit dem Wolf tanzt   10    8.0       9   \n",
       "13                                    14. Misery   10    7.8       9   \n",
       "14                                   15. Aladdin   12    8.0       9   \n",
       "15                  16. Die Schöne und das Biest   11    8.0       9   \n",
       "16                    17. Jagd auf Roter Oktober   10    7.5       9   \n",
       "17                        18. Mein Vetter Winnie   12    7.6       9   \n",
       "18                           19. Thelma & Louise   11    7.6       9   \n",
       "19        20. Boyz n the Hood - Jungs im Viertel   11    7.8       9   \n",
       "20              21. Edward mit den Scherenhänden   10    7.9       9   \n",
       "21                       22. Glengarry Glen Ross   12    7.7       9   \n",
       "22                 23. Zurück in die Zukunft III   10    7.5       9   \n",
       "23                        24. JFK: Tatort Dallas   11    8.0       9   \n",
       "24                             25. Grüne Tomaten   11    7.7       9   \n",
       "\n",
       "                                          Description   Votes  \n",
       "0   The story of Henry Hill and his life in the ma...  (1.3M)  \n",
       "1   Dr. Sayer is a pioneering neurologist who want...  (165K)  \n",
       "2   A young F.B.I. cadet must receive the help of ...  (1.6M)  \n",
       "3   An eight-year-old troublemaker, mistakenly lef...  (689K)  \n",
       "4   A cyborg, identical to the one who failed to k...  (1.2M)  \n",
       "5   When a simple jewelry heist goes horribly wron...  (1.1M)  \n",
       "6   Retired Old West gunslinger Will Munny relucta...  (448K)  \n",
       "7   A military lawyer is tasked with defending two...  (298K)  \n",
       "8   When a man goes in to have virtual vacation me...  (364K)  \n",
       "9   Follows Michael Corleone, now in his 60s, as h...  (435K)  \n",
       "10  A prep school student needing money agrees to ...  (342K)  \n",
       "11  Three Mohican trappers agree to protect the da...  (195K)  \n",
       "12  A lieutenant assigned to a remote Civil War ou...  (298K)  \n",
       "13  After a famous author is rescued from a car cr...  (246K)  \n",
       "14  A kind-hearted street urchin and a power-hungr...  (482K)  \n",
       "15  A prince cursed to spend his days as a hideous...  (489K)  \n",
       "16  In November 1984, the Soviet Union's best subm...  (221K)  \n",
       "17  Two New Yorkers accused of murder in rural Ala...  (147K)  \n",
       "18  Two best friends set out on an adventure, but ...  (180K)  \n",
       "19  Follows the lives of three young males living ...  (160K)  \n",
       "20  The solitary life of an artificial man - who w...  (541K)  \n",
       "21  An examination of the machinations behind the ...  (120K)  \n",
       "22  Stranded in 1955, Marty McFly learns about the...  (495K)  \n",
       "23  New Orleans District Attorney Jim Garrison dis...  (175K)  \n",
       "24  Evelyn, an ordinary housewife, visits a nursin...   (87K)  "
      ]
     },
     "execution_count": 492,
     "metadata": {},
     "output_type": "execute_result"
    }
   ],
   "source": [
    "scrape_imdb(\"feature\", \"7.5\", \"1990-01-01\", \"1992-12-31\")"
   ]
  },
  {
   "cell_type": "code",
   "execution_count": null,
   "id": "d20643e8-72fc-49eb-b579-f706c17cea08",
   "metadata": {},
   "outputs": [],
   "source": []
  },
  {
   "cell_type": "code",
   "execution_count": null,
   "id": "38d40dfb-3b24-4af9-b6da-f206608a1092",
   "metadata": {},
   "outputs": [],
   "source": []
  }
 ],
 "metadata": {
  "kernelspec": {
   "display_name": "Python [conda env:base] *",
   "language": "python",
   "name": "conda-base-py"
  },
  "language_info": {
   "codemirror_mode": {
    "name": "ipython",
    "version": 3
   },
   "file_extension": ".py",
   "mimetype": "text/x-python",
   "name": "python",
   "nbconvert_exporter": "python",
   "pygments_lexer": "ipython3",
   "version": "3.12.7"
  }
 },
 "nbformat": 4,
 "nbformat_minor": 5
}
